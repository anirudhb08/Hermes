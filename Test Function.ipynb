{
 "cells": [
  {
   "cell_type": "code",
   "execution_count": 1,
   "metadata": {},
   "outputs": [],
   "source": [
    "import requests\n",
    "import pandas as pd\n",
    "#import datetime\n",
    "import time\n",
    "\n",
    "def getData(ticker, metric, no_of_days):\n",
    "    \n",
    "    ticker = ticker + '.NS'\n",
    "    current_time = int(round(time.time()))\n",
    "    start_time = current_time - (no_of_days)*24*60*60\n",
    "    \n",
    "    \n",
    "    resp = requests.get('https://query1.finance.yahoo.com/v8/finance/chart/'\n",
    "                        +ticker+'?formatted=true&crumb=3fOAXVz3HoU&lang=en-IN&region=IN&period1='\n",
    "                        +str(start_time)+'&period2='+str(current_time)\n",
    "                        +'&interval=1d&events=div%7Csplit&corsDomain=in.finance.yahoo.com')\n",
    "    \n",
    "    \n",
    "    result = resp.json()\n",
    "    \n",
    "    \n",
    "    timestamps = result['chart']['result'][0]['timestamp']\n",
    "    values = result['chart']['result'][0]['indicators']['quote'][0][metric]\n",
    "    \n",
    "    #len(values)\n",
    "    #datetime.datetime.fromtimestamp(timestamps[len(timestamps) - 1])\n",
    "    \n",
    "    \n",
    "    d = {'timestamp': timestamps, 'value': values}\n",
    "    dataFrame = pd.DataFrame(data=d)\n",
    "    \n",
    "    return dataFrame"
   ]
  },
  {
   "cell_type": "code",
   "execution_count": 2,
   "metadata": {},
   "outputs": [],
   "source": [
    "val = getData('SBIN', 'close', 350)"
   ]
  },
  {
   "cell_type": "code",
   "execution_count": 3,
   "metadata": {},
   "outputs": [],
   "source": [
    "val['5SMA'] = val['value'].rolling(window = 25).mean()"
   ]
  },
  {
   "cell_type": "code",
   "execution_count": 4,
   "metadata": {},
   "outputs": [],
   "source": [
    "window_length = 25\n",
    "data = val\n",
    "sma = data['value'].rolling(window = window_length).mean()\n",
    "d = {'timestamp': data['timestamp'], 'sma': sma}\n",
    "dataFrame = pd.DataFrame(data=d)"
   ]
  },
  {
   "cell_type": "code",
   "execution_count": 5,
   "metadata": {},
   "outputs": [],
   "source": [
    "import numpy as np"
   ]
  },
  {
   "cell_type": "code",
   "execution_count": 6,
   "metadata": {},
   "outputs": [],
   "source": [
    "data['std'] = data['value'].rolling(window = 20).std() * 2\n",
    "data['sma20'] = data['value'].rolling(window = 20).mean()"
   ]
  },
  {
   "cell_type": "code",
   "execution_count": 7,
   "metadata": {},
   "outputs": [],
   "source": [
    "data['lower'] = data['sma20'] - data['std']"
   ]
  },
  {
   "cell_type": "code",
   "execution_count": 8,
   "metadata": {},
   "outputs": [
    {
     "data": {
      "text/html": [
       "<div>\n",
       "<style scoped>\n",
       "    .dataframe tbody tr th:only-of-type {\n",
       "        vertical-align: middle;\n",
       "    }\n",
       "\n",
       "    .dataframe tbody tr th {\n",
       "        vertical-align: top;\n",
       "    }\n",
       "\n",
       "    .dataframe thead th {\n",
       "        text-align: right;\n",
       "    }\n",
       "</style>\n",
       "<table border=\"1\" class=\"dataframe\">\n",
       "  <thead>\n",
       "    <tr style=\"text-align: right;\">\n",
       "      <th></th>\n",
       "      <th>timestamp</th>\n",
       "      <th>value</th>\n",
       "      <th>5SMA</th>\n",
       "      <th>std</th>\n",
       "      <th>sma20</th>\n",
       "      <th>lower</th>\n",
       "    </tr>\n",
       "  </thead>\n",
       "  <tbody>\n",
       "    <tr>\n",
       "      <th>232</th>\n",
       "      <td>1548128700</td>\n",
       "      <td>290.250000</td>\n",
       "      <td>297.085996</td>\n",
       "      <td>9.889493</td>\n",
       "      <td>297.734996</td>\n",
       "      <td>287.845503</td>\n",
       "    </tr>\n",
       "    <tr>\n",
       "      <th>233</th>\n",
       "      <td>1548215100</td>\n",
       "      <td>286.649994</td>\n",
       "      <td>296.841996</td>\n",
       "      <td>10.971469</td>\n",
       "      <td>297.359996</td>\n",
       "      <td>286.388527</td>\n",
       "    </tr>\n",
       "    <tr>\n",
       "      <th>234</th>\n",
       "      <td>1548301500</td>\n",
       "      <td>288.049988</td>\n",
       "      <td>296.335995</td>\n",
       "      <td>11.520819</td>\n",
       "      <td>297.154996</td>\n",
       "      <td>285.634177</td>\n",
       "    </tr>\n",
       "    <tr>\n",
       "      <th>235</th>\n",
       "      <td>1548387900</td>\n",
       "      <td>285.399994</td>\n",
       "      <td>295.989995</td>\n",
       "      <td>12.638121</td>\n",
       "      <td>296.684996</td>\n",
       "      <td>284.046875</td>\n",
       "    </tr>\n",
       "    <tr>\n",
       "      <th>236</th>\n",
       "      <td>1548669600</td>\n",
       "      <td>281.600006</td>\n",
       "      <td>295.577996</td>\n",
       "      <td>14.329919</td>\n",
       "      <td>295.969997</td>\n",
       "      <td>281.640078</td>\n",
       "    </tr>\n",
       "  </tbody>\n",
       "</table>\n",
       "</div>"
      ],
      "text/plain": [
       "      timestamp       value        5SMA        std       sma20       lower\n",
       "232  1548128700  290.250000  297.085996   9.889493  297.734996  287.845503\n",
       "233  1548215100  286.649994  296.841996  10.971469  297.359996  286.388527\n",
       "234  1548301500  288.049988  296.335995  11.520819  297.154996  285.634177\n",
       "235  1548387900  285.399994  295.989995  12.638121  296.684996  284.046875\n",
       "236  1548669600  281.600006  295.577996  14.329919  295.969997  281.640078"
      ]
     },
     "execution_count": 8,
     "metadata": {},
     "output_type": "execute_result"
    }
   ],
   "source": [
    "data.tail()"
   ]
  },
  {
   "cell_type": "code",
   "execution_count": 9,
   "metadata": {},
   "outputs": [],
   "source": [
    "def get_bollinger_bands(data, window_length, variation):\n",
    "    sma = data['value'].rolling(window = window_length).mean()\n",
    "    std = data['value'].rolling(window = window_length).std()\n",
    "\n",
    "    d = {'timestamp': data['timestamp'], 'sma': sma, 'std': std}\n",
    "    dataFrame = pd.DataFrame(data=d)\n",
    "    \n",
    "    dataFrame['upper_band'] = dataFrame['sma'] + variation*dataFrame['std']\n",
    "    dataFrame['lower_band'] = dataFrame['sma'] - variation*dataFrame['std']\n",
    "    \n",
    "    return dataFrame"
   ]
  },
  {
   "cell_type": "code",
   "execution_count": 11,
   "metadata": {},
   "outputs": [
    {
     "data": {
      "text/html": [
       "<div>\n",
       "<style scoped>\n",
       "    .dataframe tbody tr th:only-of-type {\n",
       "        vertical-align: middle;\n",
       "    }\n",
       "\n",
       "    .dataframe tbody tr th {\n",
       "        vertical-align: top;\n",
       "    }\n",
       "\n",
       "    .dataframe thead th {\n",
       "        text-align: right;\n",
       "    }\n",
       "</style>\n",
       "<table border=\"1\" class=\"dataframe\">\n",
       "  <thead>\n",
       "    <tr style=\"text-align: right;\">\n",
       "      <th></th>\n",
       "      <th>timestamp</th>\n",
       "      <th>sma</th>\n",
       "      <th>std</th>\n",
       "      <th>upper_band</th>\n",
       "      <th>lower_band</th>\n",
       "    </tr>\n",
       "  </thead>\n",
       "  <tbody>\n",
       "    <tr>\n",
       "      <th>232</th>\n",
       "      <td>1548128700</td>\n",
       "      <td>297.734996</td>\n",
       "      <td>4.944746</td>\n",
       "      <td>307.624489</td>\n",
       "      <td>287.845503</td>\n",
       "    </tr>\n",
       "    <tr>\n",
       "      <th>233</th>\n",
       "      <td>1548215100</td>\n",
       "      <td>297.359996</td>\n",
       "      <td>5.485734</td>\n",
       "      <td>308.331465</td>\n",
       "      <td>286.388527</td>\n",
       "    </tr>\n",
       "    <tr>\n",
       "      <th>234</th>\n",
       "      <td>1548301500</td>\n",
       "      <td>297.154996</td>\n",
       "      <td>5.760409</td>\n",
       "      <td>308.675814</td>\n",
       "      <td>285.634177</td>\n",
       "    </tr>\n",
       "    <tr>\n",
       "      <th>235</th>\n",
       "      <td>1548387900</td>\n",
       "      <td>296.684996</td>\n",
       "      <td>6.319061</td>\n",
       "      <td>309.323117</td>\n",
       "      <td>284.046875</td>\n",
       "    </tr>\n",
       "    <tr>\n",
       "      <th>236</th>\n",
       "      <td>1548669600</td>\n",
       "      <td>295.969997</td>\n",
       "      <td>7.164959</td>\n",
       "      <td>310.299915</td>\n",
       "      <td>281.640078</td>\n",
       "    </tr>\n",
       "  </tbody>\n",
       "</table>\n",
       "</div>"
      ],
      "text/plain": [
       "      timestamp         sma       std  upper_band  lower_band\n",
       "232  1548128700  297.734996  4.944746  307.624489  287.845503\n",
       "233  1548215100  297.359996  5.485734  308.331465  286.388527\n",
       "234  1548301500  297.154996  5.760409  308.675814  285.634177\n",
       "235  1548387900  296.684996  6.319061  309.323117  284.046875\n",
       "236  1548669600  295.969997  7.164959  310.299915  281.640078"
      ]
     },
     "execution_count": 11,
     "metadata": {},
     "output_type": "execute_result"
    }
   ],
   "source": [
    "get_bollinger_bands(val, 20, 2).tail()"
   ]
  },
  {
   "cell_type": "code",
   "execution_count": 12,
   "metadata": {},
   "outputs": [
    {
     "data": {
      "text/html": [
       "<div>\n",
       "<style scoped>\n",
       "    .dataframe tbody tr th:only-of-type {\n",
       "        vertical-align: middle;\n",
       "    }\n",
       "\n",
       "    .dataframe tbody tr th {\n",
       "        vertical-align: top;\n",
       "    }\n",
       "\n",
       "    .dataframe thead th {\n",
       "        text-align: right;\n",
       "    }\n",
       "</style>\n",
       "<table border=\"1\" class=\"dataframe\">\n",
       "  <thead>\n",
       "    <tr style=\"text-align: right;\">\n",
       "      <th></th>\n",
       "      <th>timestamp</th>\n",
       "      <th>value</th>\n",
       "      <th>5SMA</th>\n",
       "      <th>std</th>\n",
       "      <th>sma20</th>\n",
       "      <th>lower</th>\n",
       "    </tr>\n",
       "  </thead>\n",
       "  <tbody>\n",
       "    <tr>\n",
       "      <th>232</th>\n",
       "      <td>1548128700</td>\n",
       "      <td>290.250000</td>\n",
       "      <td>297.085996</td>\n",
       "      <td>9.889493</td>\n",
       "      <td>297.734996</td>\n",
       "      <td>287.845503</td>\n",
       "    </tr>\n",
       "    <tr>\n",
       "      <th>233</th>\n",
       "      <td>1548215100</td>\n",
       "      <td>286.649994</td>\n",
       "      <td>296.841996</td>\n",
       "      <td>10.971469</td>\n",
       "      <td>297.359996</td>\n",
       "      <td>286.388527</td>\n",
       "    </tr>\n",
       "    <tr>\n",
       "      <th>234</th>\n",
       "      <td>1548301500</td>\n",
       "      <td>288.049988</td>\n",
       "      <td>296.335995</td>\n",
       "      <td>11.520819</td>\n",
       "      <td>297.154996</td>\n",
       "      <td>285.634177</td>\n",
       "    </tr>\n",
       "    <tr>\n",
       "      <th>235</th>\n",
       "      <td>1548387900</td>\n",
       "      <td>285.399994</td>\n",
       "      <td>295.989995</td>\n",
       "      <td>12.638121</td>\n",
       "      <td>296.684996</td>\n",
       "      <td>284.046875</td>\n",
       "    </tr>\n",
       "    <tr>\n",
       "      <th>236</th>\n",
       "      <td>1548669600</td>\n",
       "      <td>281.600006</td>\n",
       "      <td>295.577996</td>\n",
       "      <td>14.329919</td>\n",
       "      <td>295.969997</td>\n",
       "      <td>281.640078</td>\n",
       "    </tr>\n",
       "  </tbody>\n",
       "</table>\n",
       "</div>"
      ],
      "text/plain": [
       "      timestamp       value        5SMA        std       sma20       lower\n",
       "232  1548128700  290.250000  297.085996   9.889493  297.734996  287.845503\n",
       "233  1548215100  286.649994  296.841996  10.971469  297.359996  286.388527\n",
       "234  1548301500  288.049988  296.335995  11.520819  297.154996  285.634177\n",
       "235  1548387900  285.399994  295.989995  12.638121  296.684996  284.046875\n",
       "236  1548669600  281.600006  295.577996  14.329919  295.969997  281.640078"
      ]
     },
     "execution_count": 12,
     "metadata": {},
     "output_type": "execute_result"
    }
   ],
   "source": [
    "val.tail()"
   ]
  },
  {
   "cell_type": "code",
   "execution_count": 18,
   "metadata": {},
   "outputs": [
    {
     "data": {
      "text/plain": [
       "1548128700"
      ]
     },
     "execution_count": 18,
     "metadata": {},
     "output_type": "execute_result"
    }
   ],
   "source": [
    "list(data.tail()['timestamp'])[0]"
   ]
  },
  {
   "cell_type": "code",
   "execution_count": 26,
   "metadata": {},
   "outputs": [],
   "source": [
    "from datetime import datetime\n",
    "import pytz\n",
    "ist = pytz.timezone(\"Asia/Kolkata\")"
   ]
  },
  {
   "cell_type": "code",
   "execution_count": 30,
   "metadata": {},
   "outputs": [
    {
     "data": {
      "text/plain": [
       "'2019-01-23 15:30:00'"
      ]
     },
     "execution_count": 30,
     "metadata": {},
     "output_type": "execute_result"
    }
   ],
   "source": [
    "datetime.fromtimestamp(list(data.tail()['timestamp'])[1] + 375*60,ist).strftime('%Y-%m-%d %H:%M:%S')"
   ]
  },
  {
   "cell_type": "code",
   "execution_count": 35,
   "metadata": {},
   "outputs": [
    {
     "data": {
      "text/plain": [
       "'2019-01-23 15:30:00'"
      ]
     },
     "execution_count": 35,
     "metadata": {},
     "output_type": "execute_result"
    }
   ],
   "source": [
    "datetime.fromtimestamp(list((data['timestamp'] + 375*60).tail())[1],ist).strftime('%Y-%m-%d %H:%M:%S') "
   ]
  },
  {
   "cell_type": "code",
   "execution_count": 37,
   "metadata": {},
   "outputs": [],
   "source": [
    "import requests\n",
    "import pandas as pd\n",
    "#import datetime\n",
    "import time\n",
    "\n",
    "def getData(ticker, metric, no_of_days):\n",
    "    \n",
    "    ticker = ticker + str('.NS')\n",
    "    current_time = int(round(time.time()))\n",
    "    start_time = current_time - (no_of_days)*24*60*60\n",
    "    \n",
    "    \n",
    "    resp = requests.get('https://query1.finance.yahoo.com/v8/finance/chart/'\n",
    "                        +ticker+'?formatted=true&crumb=3fOAXVz3HoU&lang=en-IN&region=IN&period1='\n",
    "                        +str(start_time)+'&period2='+str(current_time)\n",
    "                        +'&interval=1d&events=div%7Csplit&corsDomain=in.finance.yahoo.com')\n",
    "    \n",
    "    \n",
    "    result = resp.json()\n",
    "    \n",
    "    \n",
    "    timestamps = result['chart']['result'][0]['timestamp']\n",
    "    values = result['chart']['result'][0]['indicators']['quote'][0][metric]\n",
    "    \n",
    "    #len(values)\n",
    "    #datetime.datetime.fromtimestamp(timestamps[len(timestamps) - 1])\n",
    "    \n",
    "    \n",
    "    d = {'timestamp': timestamps, 'value': values}\n",
    "    dataFrame = pd.DataFrame(data=d)\n",
    "    \n",
    "    dataFrame['timestamp'] = dataFrame['timestamp'] + 375*60\n",
    "    \n",
    "    return dataFrame"
   ]
  },
  {
   "cell_type": "code",
   "execution_count": 39,
   "metadata": {},
   "outputs": [],
   "source": [
    "d = getData('MARUTI', 'close', 365)"
   ]
  },
  {
   "cell_type": "code",
   "execution_count": 42,
   "metadata": {},
   "outputs": [
    {
     "data": {
      "text/html": [
       "<div>\n",
       "<style scoped>\n",
       "    .dataframe tbody tr th:only-of-type {\n",
       "        vertical-align: middle;\n",
       "    }\n",
       "\n",
       "    .dataframe tbody tr th {\n",
       "        vertical-align: top;\n",
       "    }\n",
       "\n",
       "    .dataframe thead th {\n",
       "        text-align: right;\n",
       "    }\n",
       "</style>\n",
       "<table border=\"1\" class=\"dataframe\">\n",
       "  <thead>\n",
       "    <tr style=\"text-align: right;\">\n",
       "      <th></th>\n",
       "      <th>timestamp</th>\n",
       "      <th>value</th>\n",
       "    </tr>\n",
       "  </thead>\n",
       "  <tbody>\n",
       "    <tr>\n",
       "      <th>242</th>\n",
       "      <td>1548151200</td>\n",
       "      <td>7068.850098</td>\n",
       "    </tr>\n",
       "    <tr>\n",
       "      <th>243</th>\n",
       "      <td>1548237600</td>\n",
       "      <td>7045.399902</td>\n",
       "    </tr>\n",
       "    <tr>\n",
       "      <th>244</th>\n",
       "      <td>1548324000</td>\n",
       "      <td>7040.600098</td>\n",
       "    </tr>\n",
       "    <tr>\n",
       "      <th>245</th>\n",
       "      <td>1548410400</td>\n",
       "      <td>6513.399902</td>\n",
       "    </tr>\n",
       "    <tr>\n",
       "      <th>246</th>\n",
       "      <td>1548692100</td>\n",
       "      <td>6511.049805</td>\n",
       "    </tr>\n",
       "  </tbody>\n",
       "</table>\n",
       "</div>"
      ],
      "text/plain": [
       "      timestamp        value\n",
       "242  1548151200  7068.850098\n",
       "243  1548237600  7045.399902\n",
       "244  1548324000  7040.600098\n",
       "245  1548410400  6513.399902\n",
       "246  1548692100  6511.049805"
      ]
     },
     "execution_count": 42,
     "metadata": {},
     "output_type": "execute_result"
    }
   ],
   "source": [
    "d.tail()"
   ]
  },
  {
   "cell_type": "code",
   "execution_count": 41,
   "metadata": {},
   "outputs": [
    {
     "data": {
      "text/plain": [
       "'2019-01-23 15:30:00'"
      ]
     },
     "execution_count": 41,
     "metadata": {},
     "output_type": "execute_result"
    }
   ],
   "source": [
    "datetime.fromtimestamp(list((d['timestamp']).tail())[1],ist).strftime('%Y-%m-%d %H:%M:%S') "
   ]
  },
  {
   "cell_type": "code",
   "execution_count": 61,
   "metadata": {},
   "outputs": [
    {
     "data": {
      "text/plain": [
       "'2019-01-27 15:30:00'"
      ]
     },
     "execution_count": 61,
     "metadata": {},
     "output_type": "execute_result"
    }
   ],
   "source": [
    "from datetime import datetime, timedelta\n",
    "import pytz\n",
    "ist = pytz.timezone(\"Asia/Kolkata\")\n",
    "d = datetime.now(ist) - timedelta(days=1)\n",
    "d = d.replace(hour = 15, minute = 30, second = 0, microsecond = 0)\n",
    "datetime.fromtimestamp(int(d.timestamp()),ist).strftime('%Y-%m-%d %H:%M:%S') "
   ]
  },
  {
   "cell_type": "code",
   "execution_count": 60,
   "metadata": {},
   "outputs": [
    {
     "data": {
      "text/plain": [
       "1548583200.0"
      ]
     },
     "execution_count": 60,
     "metadata": {},
     "output_type": "execute_result"
    }
   ],
   "source": [
    "d.timestamp()"
   ]
  },
  {
   "cell_type": "code",
   "execution_count": 62,
   "metadata": {},
   "outputs": [],
   "source": [
    "from datetime import datetime, timedelta\n",
    "import pytz\n",
    "ist = pytz.timezone(\"Asia/Kolkata\")\n",
    "d = datetime.now(ist)\n",
    "d1 = d.replace(hour = 9, minute = 15, second = 0, microsecond = 0)"
   ]
  },
  {
   "cell_type": "code",
   "execution_count": 65,
   "metadata": {},
   "outputs": [
    {
     "data": {
      "text/plain": [
       "1548693182"
      ]
     },
     "execution_count": 65,
     "metadata": {},
     "output_type": "execute_result"
    }
   ],
   "source": [
    "int(d.timestamp())"
   ]
  },
  {
   "cell_type": "code",
   "execution_count": 66,
   "metadata": {},
   "outputs": [
    {
     "data": {
      "text/plain": [
       "1548647100"
      ]
     },
     "execution_count": 66,
     "metadata": {},
     "output_type": "execute_result"
    }
   ],
   "source": [
    "int(d1.timestamp())"
   ]
  },
  {
   "cell_type": "code",
   "execution_count": 67,
   "metadata": {},
   "outputs": [
    {
     "data": {
      "text/plain": [
       "'2019-01-28 09:15:00'"
      ]
     },
     "execution_count": 67,
     "metadata": {},
     "output_type": "execute_result"
    }
   ],
   "source": [
    "datetime.fromtimestamp(int(d1.timestamp()),ist).strftime('%Y-%m-%d %H:%M:%S') "
   ]
  },
  {
   "cell_type": "code",
   "execution_count": 68,
   "metadata": {},
   "outputs": [
    {
     "data": {
      "text/plain": [
       "1"
      ]
     },
     "execution_count": 68,
     "metadata": {},
     "output_type": "execute_result"
    }
   ],
   "source": [
    "10 % 3"
   ]
  },
  {
   "cell_type": "code",
   "execution_count": 90,
   "metadata": {},
   "outputs": [],
   "source": [
    "from datetime import datetime, timedelta\n",
    "import pytz\n",
    "ist = pytz.timezone(\"Asia/Kolkata\")\n",
    "\n",
    "def get_days_close_timestamp(no_of_days):\n",
    "    d = datetime.now(ist) - timedelta(days = no_of_days)\n",
    "    d = d.replace(hour = 15, minute = 30, second = 0, microsecond = 0)\n",
    "    return int(d.timestamp())\n",
    "\n",
    "def get_days_open_timestamp(no_of_days):\n",
    "    d = datetime.now(ist) - timedelta(days = no_of_days)\n",
    "    d = d.replace(hour = 9, minute = 15, second = 0, microsecond = 0)\n",
    "    return int(d.timestamp())\n",
    "\n",
    "\n",
    "def get_minutes_timestamp(no_of_minutes):\n",
    "    d = datetime.now(ist).replace(hour = 10, minute = 38)\n",
    "    start = d.replace(hour = 9, minute = 15, second = 0, microsecond = 0)\n",
    "    end = d.replace(hour = 15, minute = 30, second = 0, microsecond = 0)\n",
    "    \n",
    "    if int(d.timestamp()) > int(end.timestamp()):\n",
    "        ans = start + timedelta(days = 1)\n",
    "        return int(ans.timestamp())\n",
    "    elif int(d.timestamp()) < int(start.timestamp()):\n",
    "        return int(start.timestamp())\n",
    "    else:\n",
    "        diff = int(d.timestamp()) - int(start.timestamp())\n",
    "        print(diff)\n",
    "        diff = diff % (no_of_minutes * 60)\n",
    "        print(diff)\n",
    "        return int(d.timestamp()) - diff"
   ]
  },
  {
   "cell_type": "code",
   "execution_count": 95,
   "metadata": {},
   "outputs": [
    {
     "name": "stdout",
     "output_type": "stream",
     "text": [
      "4986\n",
      "4986\n"
     ]
    },
    {
     "data": {
      "text/plain": [
       "'2019-01-28 09:15:00'"
      ]
     },
     "execution_count": 95,
     "metadata": {},
     "output_type": "execute_result"
    }
   ],
   "source": [
    "datetime.fromtimestamp(get_minutes_timestamp(15000)).strftime('%Y-%m-%d %H:%M:%S') "
   ]
  },
  {
   "cell_type": "code",
   "execution_count": 79,
   "metadata": {},
   "outputs": [
    {
     "data": {
      "text/plain": [
       "datetime.datetime(2019, 1, 28, 10, 38, 24, 675040, tzinfo=<DstTzInfo 'Asia/Kolkata' IST+5:30:00 STD>)"
      ]
     },
     "execution_count": 79,
     "metadata": {},
     "output_type": "execute_result"
    }
   ],
   "source": [
    "datetime.now(ist).replace(hour = 10, minute = 38)"
   ]
  },
  {
   "cell_type": "code",
   "execution_count": null,
   "metadata": {},
   "outputs": [],
   "source": []
  }
 ],
 "metadata": {
  "kernelspec": {
   "display_name": "Python 3",
   "language": "python",
   "name": "python3"
  },
  "language_info": {
   "codemirror_mode": {
    "name": "ipython",
    "version": 3
   },
   "file_extension": ".py",
   "mimetype": "text/x-python",
   "name": "python",
   "nbconvert_exporter": "python",
   "pygments_lexer": "ipython3",
   "version": "3.7.2"
  }
 },
 "nbformat": 4,
 "nbformat_minor": 2
}
